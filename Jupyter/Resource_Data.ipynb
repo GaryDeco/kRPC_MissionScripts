{
 "cells": [
  {
   "cell_type": "markdown",
   "metadata": {},
   "source": [
    "## Gathering Resource Info..."
   ]
  },
  {
   "cell_type": "code",
   "execution_count": null,
   "metadata": {},
   "outputs": [],
   "source": [
    "import krpc \n",
    "import math\n",
    "import time\n",
    "from collections import namedtuple"
   ]
  },
  {
   "cell_type": "code",
   "execution_count": null,
   "metadata": {},
   "outputs": [],
   "source": [
    "conn = krpc.connect('Resources')\n",
    "KSC = conn.space_center\n",
    "vessel = KSC.active_vessel\n",
    "print(f\"{vessel.name} is online!\")"
   ]
  },
  {
   "cell_type": "code",
   "execution_count": null,
   "metadata": {},
   "outputs": [],
   "source": [
    "MAX_AUTO_STAGE = 0  # last stage to separate automatically\n",
    "REFRESH_FREQ = 5    # refresh rate\n",
    "ALL_FUELS = ('LiquidFuel', 'SolidFuel')\n",
    "vc = vessel.control\n",
    "dstage = vessel.resources_in_decouple_stage\n",
    "this_stage = vessel.control.current_stage"
   ]
  },
  {
   "cell_type": "code",
   "execution_count": null,
   "metadata": {},
   "outputs": [],
   "source": [
    "def out_of_stages(vessel):\n",
    "    '''True if no more stages left to activate'''\n",
    "    return this_stage <= 0\n",
    "\n",
    "def get_resources(vessel):\n",
    "    '''get resources of the vessel in the decouple stage'''\n",
    "    return dstage(this_stage - 1, cumulative=False)\n",
    "\n",
    "def stages_left(vessel):\n",
    "    '''returns a range of the currently available stages'''\n",
    "    return range(this_stage)"
   ]
  },
  {
   "cell_type": "code",
   "execution_count": null,
   "metadata": {},
   "outputs": [],
   "source": [
    "# a list engines from a list of all vessel parts\n",
    "mylist = [i.engine for i in vessel.parts.all]\n",
    "# a new list clearing out any nonetypes\n",
    "myengines = [i for i in mylist if i != None]\n",
    "# populating default lists for each stage\n",
    "S0_eng = [i for i in newlist if i.part.stage == 0]\n",
    "S1_eng = [i for i in newlist if i.part.stage == 1]\n",
    "S2_eng = [i for i in newlist if i.part.stage == 2]\n",
    "S3_eng = [i for i in newlist if i.part.stage == 3]\n",
    "S4_eng = [i for i in newlist if i.part.stage == 4]\n",
    "S5_eng = [i for i in newlist if i.part.stage == 5]\n",
    "# defining a dictionary containing a list of engines for each stage\n",
    "engines_in = {\n",
    "    \n",
    "    'stage 0':S0_eng,\n",
    "    'stage 1':S1_eng,\n",
    "    'stage 2':S2_eng,\n",
    "    'stage 3':S3_eng,\n",
    "    'stage 4':S4_eng,\n",
    "    'stage 5':S5_eng  \n",
    "    \n",
    "}\n",
    "S0 = 'stage 0'\n",
    "S1 = 'stage 1'\n",
    "S2 = 'stage 2'\n",
    "S3 = 'stage 3'\n",
    "S4 = 'stage 4'\n",
    "S5 = 'stage 5'"
   ]
  },
  {
   "cell_type": "code",
   "execution_count": null,
   "metadata": {},
   "outputs": [],
   "source": [
    "# returning the engine thrust in the specified stage\n",
    "for i in engines_in[S2]:\n",
    "    print(i.part.engine.max_thrust)"
   ]
  },
  {
   "cell_type": "code",
   "execution_count": null,
   "metadata": {},
   "outputs": [],
   "source": [
    "vessel.control.current_stage"
   ]
  }
 ],
 "metadata": {
  "kernelspec": {
   "display_name": "Python 3",
   "language": "python",
   "name": "python3"
  },
  "language_info": {
   "codemirror_mode": {
    "name": "ipython",
    "version": 3
   },
   "file_extension": ".py",
   "mimetype": "text/x-python",
   "name": "python",
   "nbconvert_exporter": "python",
   "pygments_lexer": "ipython3",
   "version": "3.7.4"
  }
 },
 "nbformat": 4,
 "nbformat_minor": 2
}
