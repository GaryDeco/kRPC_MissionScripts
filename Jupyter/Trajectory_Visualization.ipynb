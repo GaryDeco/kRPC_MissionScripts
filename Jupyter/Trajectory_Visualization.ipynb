{
 "cells": [
  {
   "cell_type": "markdown",
   "metadata": {},
   "source": [
    "### Some trajectory visualization code"
   ]
  },
  {
   "cell_type": "code",
   "execution_count": null,
   "metadata": {},
   "outputs": [],
   "source": [
    "import math\n",
    "import time\n",
    "import krpc\n",
    "import numpy as np\n",
    "from collections import namedtuple"
   ]
  },
  {
   "cell_type": "code",
   "execution_count": null,
   "metadata": {},
   "outputs": [],
   "source": [
    "conn = krpc.connect(name='Main')\n",
    "KSC = conn.space_center\n",
    "vessel = KSC.active_vessel\n",
    "print(f\"Vessel name: -- {vessel.name} -- is online\\nStatus: -- {vessel.situation} --\")"
   ]
  },
  {
   "cell_type": "markdown",
   "metadata": {},
   "source": [
    "#### Launch\n",
    "* Launch script from kRPC docs"
   ]
  },
  {
   "cell_type": "code",
   "execution_count": null,
   "metadata": {},
   "outputs": [],
   "source": [
    "ut = conn.add_stream(getattr, conn.space_center, 'ut')\n",
    "altitude = conn.add_stream(getattr, vessel.flight(), 'mean_altitude')\n",
    "apoapsis = conn.add_stream(getattr, vessel.orbit, 'apoapsis_altitude')\n",
    "tgt_roll = vessel.auto_pilot.target_roll\n",
    "turn_start_altitude = 250\n",
    "turn_end_altitude = 45000\n",
    "target_altitude = 150000\n",
    "vessel.control.sas = False\n",
    "vessel.control.rcs = False\n",
    "vessel.control.throttle = 1.0"
   ]
  },
  {
   "cell_type": "code",
   "execution_count": null,
   "metadata": {},
   "outputs": [],
   "source": [
    "# Activate the first stage\n",
    "vessel.control.activate_next_stage()\n",
    "vessel.auto_pilot.engage()\n",
    "vessel.auto_pilot.target_pitch_and_heading(90, 90)"
   ]
  },
  {
   "cell_type": "code",
   "execution_count": null,
   "metadata": {},
   "outputs": [],
   "source": [
    "# Main ascent loop\n",
    "srbs_separated = False\n",
    "turn_angle = 0\n",
    "while True:\n",
    "    # Gravity turn\n",
    "    if altitude() > turn_start_altitude and altitude() < turn_end_altitude:\n",
    "        frac = ((altitude() - turn_start_altitude) /\n",
    "                (turn_end_altitude - turn_start_altitude))\n",
    "        new_turn_angle = frac * 90\n",
    "        if abs(new_turn_angle - turn_angle) > 0.5:\n",
    "            turn_angle = new_turn_angle\n",
    "            vessel.auto_pilot.target_pitch_and_heading(90-turn_angle, 90)"
   ]
  },
  {
   "cell_type": "markdown",
   "metadata": {},
   "source": [
    "### Test\n",
    "* Drawing some reference vectors for visualization"
   ]
  },
  {
   "cell_type": "code",
   "execution_count": null,
   "metadata": {},
   "outputs": [],
   "source": [
    "vessel_direction = vessel.direction(vessel.surface_reference_frame) \n",
    "horizon_direction = (0,vessel_direction[1],vessel_direction[2])\n",
    "conn.drawing.add_direction((1,0,0),vessel.reference_frame,length=100)\n",
    "conn.drawing.add_direction((0,1,0),vessel.reference_frame,length=100)\n",
    "conn.drawing.add_direction(horizon_direction,vessel.surface_reference_frame,length=100)\n",
    "conn.drawing.add_direction((0,0,1),vessel.orbit.body.reference_frame,length=100)\n",
    "time.sleep(30)\n",
    "conn.drawing.clear()"
   ]
  }
 ],
 "metadata": {
  "kernelspec": {
   "display_name": "Python 3",
   "language": "python",
   "name": "python3"
  },
  "language_info": {
   "codemirror_mode": {
    "name": "ipython",
    "version": 3
   },
   "file_extension": ".py",
   "mimetype": "text/x-python",
   "name": "python",
   "nbconvert_exporter": "python",
   "pygments_lexer": "ipython3",
   "version": "3.7.4"
  }
 },
 "nbformat": 4,
 "nbformat_minor": 2
}
