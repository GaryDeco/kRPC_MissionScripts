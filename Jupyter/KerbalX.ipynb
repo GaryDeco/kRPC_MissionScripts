{
 "cells": [
  {
   "cell_type": "markdown",
   "metadata": {},
   "source": [
    "## Some experimentation with API using KerbalX"
   ]
  },
  {
   "cell_type": "code",
   "execution_count": null,
   "metadata": {},
   "outputs": [],
   "source": [
    "import krpc\n",
    "import math\n",
    "import time"
   ]
  },
  {
   "cell_type": "code",
   "execution_count": null,
   "metadata": {},
   "outputs": [],
   "source": [
    "conn = krpc.connect(name='Main')\n",
    "KSC = conn.space_center\n",
    "vessel = KSC.active_vessel\n",
    "print(\"Main is online!\")"
   ]
  },
  {
   "cell_type": "code",
   "execution_count": null,
   "metadata": {},
   "outputs": [],
   "source": [
    "ap = vessel.auto_pilot\n",
    "vc = vessel.control"
   ]
  },
  {
   "cell_type": "markdown",
   "metadata": {},
   "source": [
    "#### Setting up streams for telemetry"
   ]
  },
  {
   "cell_type": "code",
   "execution_count": null,
   "metadata": {},
   "outputs": [],
   "source": [
    "# telemetry setup\n",
    "ut = conn.add_stream(getattr, conn.space_center, 'ut')\n",
    "altitude = conn.add_stream(getattr, vessel.flight(), 'mean_altitude')\n",
    "apoapsis = conn.add_stream(getattr, vessel.orbit, 'apoapsis_altitude')\n",
    "s2_resources = vessel.resources_in_decouple_stage(stage=2, cumulative=False)\n",
    "s3_resources = vessel.resources_in_decouple_stage(stage=3, cumulative=False)\n",
    "s2_srb_fuel = conn.add_stream(stage_2_resources.amount, 'SolidFuel')\n",
    "s3_srb_fuel = conn.add_stream(stage_3_resources.amount, 'SolidFuel')"
   ]
  },
  {
   "cell_type": "markdown",
   "metadata": {},
   "source": [
    "#### Gravity turn function from example in kRPC docs\n",
    "* Added a few helper functions"
   ]
  },
  {
   "cell_type": "code",
   "execution_count": null,
   "metadata": {},
   "outputs": [],
   "source": [
    "def G_turn(turn_start,turn_end,tgt_alt):\n",
    "    \"\"\" Calculates the pitch, heading, and roll relative to the current celestial body surface\"\"\"\n",
    "    turn_start = 250\n",
    "    turn_end = 45000\n",
    "    tgt_alt = 150000\n",
    "    v_ref = vessel.reference_frame\n",
    "    s_ref = vessel.surface_reference_frame\n",
    "    v_dir = vessel.direction(s_ref)\n",
    "    h_dir = (0, v_dir[1], v_dir[2])\n",
    "\n",
    "    def V_mag(v):\n",
    "        \"\"\" \"\"\"\n",
    "        mag = math.sqrt((v[0]) ** 2 + (v[1]) ** 2 + (v[2]) ** 2)\n",
    "        return mag\n",
    "\n",
    "    def dot_p(u, v):\n",
    "        \"\"\" method 1 for dot product calculation to find angle  \"\"\"\n",
    "        return u[0]*v[0] + u[1]*v[1] + u[2]*v[2]\n",
    "\n",
    "    def cross_p(u, v):\n",
    "        \"\"\" returns the cross product of two vectors u x v - orthogonal to u and v \"\"\"\n",
    "        return (u[1]*v[2] - u[2]*v[1],\n",
    "                u[2]*v[0] - u[0]*v[2],\n",
    "                u[0]*v[1] - u[1]*v[0])\n",
    "\n",
    "    def UV_theta(u, v):\n",
    "        \"\"\" returns angle between vectors, checks if they are parallel \"\"\"\n",
    "        dotp = dot_p(u, v)\n",
    "        if dotp == 0:\n",
    "            return 0\n",
    "        else:\n",
    "            theta = math.acos(dotp / (V_mag(u) * V_mag(v))) * (180/math.pi)\n",
    "            return theta\n",
    "    #......................................   main  .........................................................#\n",
    "\n",
    "    # pitch definition\n",
    "    pitch = UV_theta(v_dir, h_dir)\n",
    "    if v_dir[0] < 0:\n",
    "        pitch = -pitch\n",
    "    # heading definition\n",
    "    north = (0, 1, 0)\n",
    "    heading = UV_theta(north, h_dir)\n",
    "    if h_dir[2] < 0:\n",
    "        heading = 360 - heading\n",
    "    # roll definition\n",
    "    up = (1, 0, 0)\n",
    "    norm = cross_p(v_dir, up)\n",
    "    # define up\n",
    "    v_up = conn.space_center.transform_direction((0, 0, -1), v_ref, s_ref)\n",
    "    # angle between up and normal\n",
    "    roll = UV_theta(up, norm)\n",
    "    if up[0] > 0:\n",
    "        roll *= -1\n",
    "    elif roll < 0:\n",
    "        roll += 180\n",
    "    else:\n",
    "        roll -= 180\n",
    "    # comment out if no printing is desired\n",
    "    # print('pitch = % 5.1f, heading = % 5.1f, roll = % 5.1f' %(pitch, heading, roll))\n",
    "    return pitch,heading,roll"
   ]
  },
  {
   "cell_type": "markdown",
   "metadata": {},
   "source": [
    "#### Checking out pitch heading and roll"
   ]
  },
  {
   "cell_type": "code",
   "execution_count": null,
   "metadata": {},
   "outputs": [],
   "source": [
    "pitch = round(G_turn(250,45000,150000)[0],1)\n",
    "heading = round(G_turn(250,45000,150000)[1],1)\n",
    "roll = round(G_turn(250,45000,150000)[2],1)\n",
    "print(pitch,heading,roll)"
   ]
  },
  {
   "cell_type": "markdown",
   "metadata": {},
   "source": [
    "#### Returns the atmospheric depth of body for the current orbit"
   ]
  },
  {
   "cell_type": "code",
   "execution_count": null,
   "metadata": {},
   "outputs": [],
   "source": [
    "depth = vessel.orbit.body.atmosphere_depth\n",
    "depth"
   ]
  }
 ],
 "metadata": {
  "kernelspec": {
   "display_name": "Python 3",
   "language": "python",
   "name": "python3"
  },
  "language_info": {
   "codemirror_mode": {
    "name": "ipython",
    "version": 3
   },
   "file_extension": ".py",
   "mimetype": "text/x-python",
   "name": "python",
   "nbconvert_exporter": "python",
   "pygments_lexer": "ipython3",
   "version": "3.7.4"
  }
 },
 "nbformat": 4,
 "nbformat_minor": 2
}
