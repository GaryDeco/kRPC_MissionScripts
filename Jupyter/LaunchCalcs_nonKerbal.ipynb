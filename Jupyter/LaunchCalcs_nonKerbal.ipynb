{
 "cells": [
  {
   "cell_type": "markdown",
   "metadata": {},
   "source": [
    "## Some standard rocket launch calculations for ksp code development\n",
    "* Uses numerical methods (Runge Kutta)"
   ]
  },
  {
   "cell_type": "code",
   "execution_count": 19,
   "metadata": {},
   "outputs": [],
   "source": [
    "import math as ma\n",
    "import cmath as cma\n",
    "import numpy as np\n",
    "from sympy import *\n",
    "import pandas as pd\n",
    "import matplotlib.pyplot as plt\n",
    "from scipy.integrate import RK45 as rk45"
   ]
  },
  {
   "cell_type": "code",
   "execution_count": 23,
   "metadata": {},
   "outputs": [],
   "source": [
    "# definitions\n",
    "d2r      = ma.pi/180         # deg to rad\n",
    "g        = 9.81              # use ksp constant\n",
    "r_kerbin = 600000            # use in-game value\n",
    "rho_SL   = 1.14              # Sea level atmo density\n",
    "h_atmo   = 75000             # atmospheric height [m]\n",
    "cd       = 0.5               # (constant) drag coeficient (calculable in ksp)\n",
    "m0       = 300000            # lift-off mass (wet mass)[kg]\n",
    "m1       = 15000             # empty-mass (dry mass) [kg]\n",
    "mrat     = m0/m1             # fuel mass ratio (wet mass/ dry mass) -- (obtain in-game)\n",
    "mburn    = m0/mrat           # burnout mass\n",
    "Rd       = 2.5               # rocket diameter [m] (need to look into how this translates to ksp)\n",
    "A        = ma.pi/4*Rd**2     # rocket radial surface area\n",
    "T2W      = 1.5               # thrust to weight ratio\n",
    "Isp      = 285               # Engine Isp (combined)\n",
    "Rthrust  = T2W*m0*g          # rocket thrustr calculation [N]\n",
    "mdot     = Rthrust/Isp/g     # propellant mass flow rate [kg/s]\n",
    "mprop    = m0 - m1           # propellant mass\n",
    "hpitch   = 100               # elevation to begin pitch over [m]\n",
    "tburn    = mprop/mdot        # burn time [s]\n",
    "t0       = 0                 # Initial time for the numerical integration\n",
    "tf       = tburn             # Final time for the numerical integration\n",
    "tspan    = np.arange(t0,tf)  # Range of integration"
   ]
  },
  {
   "cell_type": "code",
   "execution_count": 22,
   "metadata": {},
   "outputs": [],
   "source": [
    "# initial conditions\n",
    "v0 = 0\n",
    "x0 = 0\n",
    "h0 = 0\n",
    "vD0 = 0\n",
    "vG0 = 0\n",
    "gamma0 = 90*d2r"
   ]
  },
  {
   "cell_type": "code",
   "execution_count": 36,
   "metadata": {},
   "outputs": [],
   "source": [
    "# initial conditions vector\n",
    "f0 = np.array([v0,gamma0,x0,h0,vD0,vG0])\n",
    "# TODO incomplete"
   ]
  }
 ],
 "metadata": {
  "kernelspec": {
   "display_name": "Python 3",
   "language": "python",
   "name": "python3"
  },
  "language_info": {
   "codemirror_mode": {
    "name": "ipython",
    "version": 3
   },
   "file_extension": ".py",
   "mimetype": "text/x-python",
   "name": "python",
   "nbconvert_exporter": "python",
   "pygments_lexer": "ipython3",
   "version": "3.7.4"
  }
 },
 "nbformat": 4,
 "nbformat_minor": 2
}
