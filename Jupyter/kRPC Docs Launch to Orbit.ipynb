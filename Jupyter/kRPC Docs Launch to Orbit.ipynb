{
 "cells": [
  {
   "cell_type": "markdown",
   "metadata": {},
   "source": [
    "## Launch to Orbit (from kRPC docs)"
   ]
  },
  {
   "cell_type": "code",
   "execution_count": 1,
   "metadata": {},
   "outputs": [],
   "source": [
    "import math\n",
    "import time\n",
    "import krpc"
   ]
  },
  {
   "cell_type": "code",
   "execution_count": 2,
   "metadata": {},
   "outputs": [
    {
     "name": "stdout",
     "output_type": "stream",
     "text": [
      "3...\n",
      "2...\n",
      "1...\n",
      "Launch!\n"
     ]
    }
   ],
   "source": [
    "turn_start_altitude = 250\n",
    "turn_end_altitude = 45000\n",
    "target_altitude = 150000\n",
    "\n",
    "conn = krpc.connect(name='Launch into orbit')\n",
    "vessel = conn.space_center.active_vessel\n",
    "\n",
    "# Set up streams for telemetry\n",
    "ut = conn.add_stream(getattr, conn.space_center, 'ut')\n",
    "altitude = conn.add_stream(getattr, vessel.flight(), 'mean_altitude')\n",
    "apoapsis = conn.add_stream(getattr, vessel.orbit, 'apoapsis_altitude')\n",
    "stage_2_resources = vessel.resources_in_decouple_stage(stage=2, cumulative=False)\n",
    "srb_fuel = conn.add_stream(stage_2_resources.amount, 'SolidFuel')\n",
    "\n",
    "# Pre-launch setup\n",
    "vessel.control.sas = False\n",
    "vessel.control.rcs = False\n",
    "vessel.control.throttle = 1.0\n",
    "\n",
    "# Countdown...\n",
    "print('3...')\n",
    "time.sleep(1)\n",
    "print('2...')\n",
    "time.sleep(1)\n",
    "print('1...')\n",
    "time.sleep(1)\n",
    "print('Launch!')"
   ]
  },
  {
   "cell_type": "code",
   "execution_count": 3,
   "metadata": {},
   "outputs": [
    {
     "name": "stdout",
     "output_type": "stream",
     "text": [
      "SRBs separated\n",
      "Approaching target apoapsis\n"
     ]
    }
   ],
   "source": [
    "# Activate the first stage\n",
    "vessel.control.activate_next_stage()\n",
    "vessel.auto_pilot.engage()\n",
    "vessel.auto_pilot.target_pitch_and_heading(90, 90)\n",
    "\n",
    "# Main ascent loop\n",
    "srbs_separated = False\n",
    "turn_angle = 0\n",
    "while True:\n",
    "\n",
    "    # Gravity turn\n",
    "    if altitude() > turn_start_altitude and altitude() < turn_end_altitude:\n",
    "        frac = ((altitude() - turn_start_altitude) /\n",
    "                (turn_end_altitude - turn_start_altitude))\n",
    "        new_turn_angle = frac * 90\n",
    "        if abs(new_turn_angle - turn_angle) > 0.5:\n",
    "            turn_angle = new_turn_angle\n",
    "            vessel.auto_pilot.target_pitch_and_heading(90-turn_angle, 90)\n",
    "\n",
    "    # Separate SRBs when finished\n",
    "    if not srbs_separated:\n",
    "        if srb_fuel() < 0.1:\n",
    "            vessel.control.activate_next_stage()\n",
    "            srbs_separated = True\n",
    "            print('SRBs separated')\n",
    "\n",
    "    # Decrease throttle when approaching target apoapsis\n",
    "    if apoapsis() > target_altitude*0.9:\n",
    "        print('Approaching target apoapsis')\n",
    "        break"
   ]
  },
  {
   "cell_type": "code",
   "execution_count": 4,
   "metadata": {},
   "outputs": [
    {
     "name": "stdout",
     "output_type": "stream",
     "text": [
      "Target apoapsis reached\n",
      "Coasting out of atmosphere\n"
     ]
    }
   ],
   "source": [
    "# Disable engines when target apoapsis is reached\n",
    "vessel.control.throttle = 0.25\n",
    "while apoapsis() < target_altitude:\n",
    "    pass\n",
    "print('Target apoapsis reached')\n",
    "vessel.control.throttle = 0.0\n",
    "\n",
    "# Wait until out of atmosphere\n",
    "print('Coasting out of atmosphere')\n",
    "while altitude() < 70500:\n",
    "    pass"
   ]
  },
  {
   "cell_type": "code",
   "execution_count": 5,
   "metadata": {},
   "outputs": [
    {
     "name": "stdout",
     "output_type": "stream",
     "text": [
      "Planning circularization burn\n"
     ]
    }
   ],
   "source": [
    "# Plan circularization burn (using vis-viva equation)\n",
    "print('Planning circularization burn')\n",
    "mu = vessel.orbit.body.gravitational_parameter\n",
    "r = vessel.orbit.apoapsis\n",
    "a1 = vessel.orbit.semi_major_axis\n",
    "a2 = r\n",
    "v1 = math.sqrt(mu*((2./r)-(1./a1)))\n",
    "v2 = math.sqrt(mu*((2./r)-(1./a2)))\n",
    "delta_v = v2 - v1\n",
    "node = vessel.control.add_node(\n",
    "    ut() + vessel.orbit.time_to_apoapsis, prograde=delta_v)\n",
    "\n",
    "# Calculate burn time (using rocket equation)\n",
    "F = vessel.available_thrust\n",
    "Isp = vessel.specific_impulse * 9.82\n",
    "m0 = vessel.mass\n",
    "m1 = m0 / math.exp(delta_v/Isp)\n",
    "flow_rate = F / Isp\n",
    "burn_time = (m0 - m1) / flow_rate"
   ]
  },
  {
   "cell_type": "code",
   "execution_count": 6,
   "metadata": {},
   "outputs": [
    {
     "name": "stdout",
     "output_type": "stream",
     "text": [
      "Orientating ship for circularization burn\n",
      "Waiting until circularization burn\n"
     ]
    }
   ],
   "source": [
    "# Orientate ship\n",
    "print('Orientating ship for circularization burn')\n",
    "vessel.auto_pilot.reference_frame = node.reference_frame\n",
    "vessel.auto_pilot.target_direction = (0, 1, 0)\n",
    "vessel.auto_pilot.wait()\n",
    "\n",
    "# Wait until burn\n",
    "print('Waiting until circularization burn')\n",
    "burn_ut = ut() + vessel.orbit.time_to_apoapsis - (burn_time/2.)\n",
    "lead_time = 5\n",
    "conn.space_center.warp_to(burn_ut - lead_time)"
   ]
  },
  {
   "cell_type": "code",
   "execution_count": null,
   "metadata": {},
   "outputs": [
    {
     "name": "stdout",
     "output_type": "stream",
     "text": [
      "Ready to execute burn\n",
      "Executing burn\n",
      "Fine tuning\n"
     ]
    }
   ],
   "source": [
    "# Execute burn\n",
    "print('Ready to execute burn')\n",
    "time_to_apoapsis = conn.add_stream(getattr, vessel.orbit, 'time_to_apoapsis')\n",
    "while time_to_apoapsis() - (burn_time/2.) > 0:\n",
    "    pass\n",
    "print('Executing burn')\n",
    "vessel.control.throttle = 1.0\n",
    "time.sleep(burn_time - 0.1)\n",
    "print('Fine tuning')\n",
    "vessel.control.throttle = 0.05\n",
    "remaining_burn = conn.add_stream(node.remaining_burn_vector, node.reference_frame)\n",
    "while remaining_burn()[1] > 0:\n",
    "    pass\n",
    "vessel.control.throttle = 0.0\n",
    "node.remove()\n",
    "\n",
    "print('Launch complete')"
   ]
  },
  {
   "cell_type": "code",
   "execution_count": null,
   "metadata": {},
   "outputs": [],
   "source": []
  }
 ],
 "metadata": {
  "kernelspec": {
   "display_name": "Python 3",
   "language": "python",
   "name": "python3"
  },
  "language_info": {
   "codemirror_mode": {
    "name": "ipython",
    "version": 3
   },
   "file_extension": ".py",
   "mimetype": "text/x-python",
   "name": "python",
   "nbconvert_exporter": "python",
   "pygments_lexer": "ipython3",
   "version": "3.7.4"
  }
 },
 "nbformat": 4,
 "nbformat_minor": 2
}
