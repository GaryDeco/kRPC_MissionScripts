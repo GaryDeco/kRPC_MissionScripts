{
 "cells": [
  {
   "cell_type": "markdown",
   "metadata": {},
   "source": [
    "### Streams"
   ]
  },
  {
   "cell_type": "code",
   "execution_count": 1,
   "metadata": {},
   "outputs": [],
   "source": [
    "import math as ma\n",
    "import numpy as np\n",
    "import matplotlib.pyplot as plt\n",
    "from mpl_toolkits import mplot3d as dim3\n",
    "import krpc"
   ]
  },
  {
   "cell_type": "code",
   "execution_count": 2,
   "metadata": {},
   "outputs": [
    {
     "name": "stdout",
     "output_type": "stream",
     "text": [
      "CozmikExplorer is online!\n"
     ]
    }
   ],
   "source": [
    "conn = krpc.connect(name='Main')\n",
    "KSC = conn.space_center\n",
    "vessel = KSC.active_vessel\n",
    "print(f\"{vessel.name} is online!\")"
   ]
  },
  {
   "cell_type": "code",
   "execution_count": 3,
   "metadata": {},
   "outputs": [],
   "source": [
    "vo = vessel.orbit\n",
    "vc = vessel.control\n",
    "ap = vessel.auto_pilot\n",
    "v_ref = vessel.reference_frame\n",
    "s_ref = vessel.surface_reference_frame\n",
    "sv_ref = vessel.surface_velocity_reference_frame\n",
    "vob_ref = vessel.orbit.body.reference_frame\n",
    "cd = conn.drawing\n",
    "pos0 = np.matrix([vessel.position(vob_ref)]) # initial launchpad position vector"
   ]
  },
  {
   "cell_type": "code",
   "execution_count": 15,
   "metadata": {},
   "outputs": [],
   "source": [
    "def mag(v):\n",
    "    return np.linalg.norm(v)"
   ]
  },
  {
   "cell_type": "code",
   "execution_count": 17,
   "metadata": {},
   "outputs": [
    {
     "data": {
      "text/plain": [
       "600077.6099899748"
      ]
     },
     "execution_count": 17,
     "metadata": {},
     "output_type": "execute_result"
    }
   ],
   "source": [
    "mag(pos0) # magnitude of position vector"
   ]
  },
  {
   "cell_type": "code",
   "execution_count": 19,
   "metadata": {},
   "outputs": [
    {
     "data": {
      "text/plain": [
       "77.60998997476418"
      ]
     },
     "execution_count": 19,
     "metadata": {},
     "output_type": "execute_result"
    }
   ],
   "source": [
    "r_kerbin = 600000 # radius of kerbin\n",
    "altitude = abs(r_kerbin - mag(pos0))\n",
    "altitude"
   ]
  },
  {
   "cell_type": "code",
   "execution_count": 6,
   "metadata": {},
   "outputs": [],
   "source": [
    "        # helpers\n",
    "stream = conn.add_stream\n",
    "ap = vessel.auto_pilot\n",
    "control = vessel.control\n",
    "orbit = vessel.orbit\n",
    "orbital_body = vessel.orbit.body\n",
    "flight = vessel.flight\n",
    "call = conn.get_call\n",
    "fuel_amount = vessel.resources.amount\n",
    "bodies = conn.space_center.bodies\n",
    "\n",
    "        # reference frames\n",
    "RF = vessel.reference_frame\n",
    "orbital_RF = vessel.orbital_reference_frame\n",
    "nr_orbital_RF = vessel.orbit.body.non_rotating_reference_frame\n",
    "surface_RF = vessel.surface_reference_frame\n",
    "create_hybrid = conn.space_center.ReferenceFrame.create_hybrid\n",
    "surface_vel_RF = create_hybrid(position=orbital_RF, rotation=surface_RF)\n",
    "\n",
    "        # in-game time\n",
    "ut = stream(getattr ,KSC , 'ut')\n",
    "met = stream(getattr, vessel, 'met')\n",
    "\n",
    "# position\n",
    "position = stream(vessel.position,orbit.body.reference_frame)\n",
    "\n",
    "# vessel\n",
    "mass = stream(getattr, vessel, 'mass')\n",
    "dry_mass = stream(getattr, vessel, 'dry_mass')\n",
    "crew_capacity = stream(getattr, vessel, 'crew_capacity')\n",
    "crew_count = stream(getattr, vessel, 'crew_count')\n",
    "crew = stream(getattr, vessel, 'crew')\n",
    "current_biome = stream(getattr, vessel, 'biome')\n",
    "\n",
    "# resources\n",
    "SF_amt = call(fuel_amount, 'SolidFuel')\n",
    "LF_amt = call(fuel_amount, 'LiquidFuel')\n",
    "OX_amt = call(fuel_amount, 'Oxidizer')\n",
    "MP_amt = call(fuel_amount, 'MonoPropellant')\n",
    "\n",
    "# vessel engines\n",
    "engine = vessel.parts.engines[0]\n",
    "engine_is_active = stream(getattr, engine, 'active')\n",
    "thrust = stream(getattr, engine, 'thrust')\n",
    "available_thrust = stream(getattr, engine, 'available_thrust')\n",
    "max_thrust_asl = stream(getattr, engine, 'max_thrust')\n",
    "max_thrust_vac = stream(getattr, engine, 'max_vacuum_thrust')\n",
    "Isp_asl = stream(getattr, engine,'kerbin_sea_level_specific_impulse')\n",
    "Isp = stream(getattr, engine, 'specific_impulse')\n",
    "Isp_vac = stream(getattr, engine, 'vacuum_specific_impulse')\n",
    "fuel_types = stream(getattr, engine, 'propellant_names')\n",
    "fuel_ratio = stream(getattr, engine, 'propellant_ratios')\n",
    "got_fuel = stream(getattr, engine, 'has_fuel')\n",
    "throttle = stream(getattr, engine, 'throttle')\n",
    "\n",
    "# surface data\n",
    "current_biome = stream(getattr, vessel, 'biome')\n",
    "\n",
    "# surface flight\n",
    "altitude = stream(getattr, flight(surface_RF), 'mean_altitude')\n",
    "surface_speed = stream(getattr, flight(surface_RF), 'speed')\n",
    "surface_vel = stream(getattr, flight(surface_vel_RF), 'velocity')\n",
    "vert_speed = stream(getattr, flight(surface_RF), 'vertical_speed')\n",
    "slip_angle = stream(getattr, flight(surface_RF), 'sideslip_angle')\n",
    "static_temp = stream(getattr, flight(surface_RF), 'static_air_temperature')\n",
    "pitch = stream(getattr, flight(surface_RF), 'pitch')\n",
    "heading = stream(getattr, flight(surface_RF), 'heading')\n",
    "roll = stream(getattr, flight(surface_RF), 'roll')\n",
    "aoa = stream(getattr, flight(surface_RF), 'angle_of_attack')\n",
    "p_atmo = stream(getattr, flight(surface_RF), 'atmosphere_density')\n",
    "q = stream(getattr, flight(surface_RF), 'dynamic_pressure')\n",
    "g_force = stream(getattr, flight(surface_RF), 'g_force')\n",
    "v_terminal = stream(getattr, flight(surface_RF), 'terminal_velocity')\n",
    "static_temp = stream(getattr, flight(surface_RF), 'static_air_temperature')\n",
    "\n",
    "# orbital flight\n",
    "orbital_speed = stream(getattr, flight(orbital_RF), 'speed')\n",
    "apoapsis = stream(getattr, orbit, 'apoapsis_altitude')\n",
    "time_to_apo = stream(getattr, orbit, 'time_to_apoapsis')\n",
    "periapsis = stream(getattr, orbit, 'periapsis_altitude')\n",
    "time_to_pe = stream(getattr, orbit, 'time_to_periapsis')\n",
    "inclination = stream(getattr, orbit, 'inclination')\n",
    "ecc = stream(getattr, orbit, 'eccentricity')\n",
    "\n",
    "\n",
    "# Telemetry methods\n",
    "def get_attitude():\n",
    "    return f\"pitch,heading,roll: {pitch()}, {heading()}, {slip_angle()}\"\n",
    "\n",
    "# Basic vector operations\n",
    "def V_mag(v):\n",
    "    \"\"\"returns the magnitude of a vector in 3 dimensions\"\"\"\n",
    "    return math.sqrt((v[0]) **2 + (v[1]) **2 + (v[2]) **2)\n",
    "\n",
    "def dot_p(u,v):\n",
    "    \"\"\" method 1 for dot product calculation to find angle  \"\"\"\n",
    "    return u[0] * v[0] + u[1] * v[1] + u[2] * v[2]\n",
    "\n",
    "def cross_p(u, v):\n",
    "    \"\"\" returns the cross product of two vectors u x v - orthogonal to u and v \"\"\"\n",
    "    return (u[1]*v[2] - u[2]*v[1],\n",
    "            u[2]*v[0] - u[0]*v[2],\n",
    "            u[0]*v[1] - u[1]*v[0])\n",
    "\n",
    "def UV_theta(u, v):\n",
    "    \n",
    "    \"\"\" returns angle between vectors, checks if they are parallel \"\"\"\n",
    "    dotp = dot_p(u, v)\n",
    "    theta = math.acos(dotp / (V_mag(u) * V_mag(v))) * (180/math.pi)\n",
    "    return theta"
   ]
  },
  {
   "cell_type": "code",
   "execution_count": 7,
   "metadata": {},
   "outputs": [
    {
     "data": {
      "text/plain": [
       "(159781.05469002348, -1017.3715099692345, -578413.4486102135)"
      ]
     },
     "execution_count": 7,
     "metadata": {},
     "output_type": "execute_result"
    }
   ],
   "source": [
    "position()"
   ]
  },
  {
   "cell_type": "code",
   "execution_count": 8,
   "metadata": {},
   "outputs": [
    {
     "data": {
      "text/plain": [
       "'Shores'"
      ]
     },
     "execution_count": 8,
     "metadata": {},
     "output_type": "execute_result"
    }
   ],
   "source": [
    "current_biome()"
   ]
  },
  {
   "cell_type": "code",
   "execution_count": 9,
   "metadata": {},
   "outputs": [
    {
     "data": {
      "text/plain": [
       "77.60999192972668"
      ]
     },
     "execution_count": 9,
     "metadata": {},
     "output_type": "execute_result"
    }
   ],
   "source": [
    "altitude()"
   ]
  },
  {
   "cell_type": "code",
   "execution_count": 10,
   "metadata": {},
   "outputs": [
    {
     "data": {
      "text/plain": [
       "12092.0"
      ]
     },
     "execution_count": 10,
     "metadata": {},
     "output_type": "execute_result"
    }
   ],
   "source": [
    "mass()"
   ]
  },
  {
   "cell_type": "code",
   "execution_count": 11,
   "metadata": {},
   "outputs": [
    {
     "data": {
      "text/plain": [
       "250.0"
      ]
     },
     "execution_count": 11,
     "metadata": {},
     "output_type": "execute_result"
    }
   ],
   "source": [
    "Isp_asl()"
   ]
  },
  {
   "cell_type": "code",
   "execution_count": 12,
   "metadata": {},
   "outputs": [
    {
     "data": {
      "text/plain": [
       "'pitch,heading,roll: 89.95574951171875, 73.6309585571289, -13.911347389221191'"
      ]
     },
     "execution_count": 12,
     "metadata": {},
     "output_type": "execute_result"
    }
   ],
   "source": [
    "get_attitude()"
   ]
  },
  {
   "cell_type": "code",
   "execution_count": 13,
   "metadata": {},
   "outputs": [
    {
     "data": {
      "text/plain": [
       "True"
      ]
     },
     "execution_count": 13,
     "metadata": {},
     "output_type": "execute_result"
    }
   ],
   "source": [
    "got_fuel()"
   ]
  },
  {
   "cell_type": "code",
   "execution_count": 14,
   "metadata": {},
   "outputs": [
    {
     "data": {
      "text/plain": [
       "168405.265625"
      ]
     },
     "execution_count": 14,
     "metadata": {},
     "output_type": "execute_result"
    }
   ],
   "source": [
    "max_thrust_asl()"
   ]
  }
 ],
 "metadata": {
  "kernelspec": {
   "display_name": "Python 3",
   "language": "python",
   "name": "python3"
  },
  "language_info": {
   "codemirror_mode": {
    "name": "ipython",
    "version": 3
   },
   "file_extension": ".py",
   "mimetype": "text/x-python",
   "name": "python",
   "nbconvert_exporter": "python",
   "pygments_lexer": "ipython3",
   "version": "3.7.4"
  }
 },
 "nbformat": 4,
 "nbformat_minor": 2
}
